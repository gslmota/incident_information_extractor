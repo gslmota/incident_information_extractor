{
 "cells": [
  {
   "cell_type": "code",
   "execution_count": 2,
   "id": "e31fec47",
   "metadata": {},
   "outputs": [
    {
     "name": "stdout",
     "output_type": "stream",
     "text": [
      "\u001b[31mERROR: pip's dependency resolver does not currently take into account all the packages that are installed. This behaviour is the source of the following dependency conflicts.\n",
      "google-genai 1.30.0 requires anyio<5.0.0,>=4.8.0, but you have anyio 3.7.1 which is incompatible.\n",
      "mcp 1.9.2 requires anyio>=4.5, but you have anyio 3.7.1 which is incompatible.\n",
      "incident-extractor 0.1.0 requires httpx<0.26.0,>=0.25.2, but you have httpx 0.28.1 which is incompatible.\u001b[0m\u001b[31m\n",
      "\u001b[0m"
     ]
    }
   ],
   "source": [
    "! pip install -qU langchain-ollama"
   ]
  },
  {
   "cell_type": "code",
   "execution_count": 3,
   "id": "89f58376",
   "metadata": {},
   "outputs": [
    {
     "name": "stdout",
     "output_type": "stream",
     "text": [
      "Requirement already satisfied: ollama in /home/gabriel/anaconda3/envs/omni/lib/python3.12/site-packages (0.5.3)\n",
      "Requirement already satisfied: httpx>=0.27 in /home/gabriel/anaconda3/envs/omni/lib/python3.12/site-packages (from ollama) (0.28.1)\n",
      "Requirement already satisfied: pydantic>=2.9 in /home/gabriel/anaconda3/envs/omni/lib/python3.12/site-packages (from ollama) (2.11.7)\n",
      "Requirement already satisfied: anyio in /home/gabriel/anaconda3/envs/omni/lib/python3.12/site-packages (from httpx>=0.27->ollama) (3.7.1)\n",
      "Requirement already satisfied: certifi in /home/gabriel/anaconda3/envs/omni/lib/python3.12/site-packages (from httpx>=0.27->ollama) (2025.8.3)\n",
      "Requirement already satisfied: httpcore==1.* in /home/gabriel/anaconda3/envs/omni/lib/python3.12/site-packages (from httpx>=0.27->ollama) (1.0.9)\n",
      "Requirement already satisfied: idna in /home/gabriel/anaconda3/envs/omni/lib/python3.12/site-packages (from httpx>=0.27->ollama) (3.10)\n",
      "Requirement already satisfied: h11>=0.16 in /home/gabriel/anaconda3/envs/omni/lib/python3.12/site-packages (from httpcore==1.*->httpx>=0.27->ollama) (0.16.0)\n",
      "Requirement already satisfied: annotated-types>=0.6.0 in /home/gabriel/anaconda3/envs/omni/lib/python3.12/site-packages (from pydantic>=2.9->ollama) (0.7.0)\n",
      "Requirement already satisfied: pydantic-core==2.33.2 in /home/gabriel/anaconda3/envs/omni/lib/python3.12/site-packages (from pydantic>=2.9->ollama) (2.33.2)\n",
      "Requirement already satisfied: typing-extensions>=4.12.2 in /home/gabriel/anaconda3/envs/omni/lib/python3.12/site-packages (from pydantic>=2.9->ollama) (4.14.1)\n",
      "Requirement already satisfied: typing-inspection>=0.4.0 in /home/gabriel/anaconda3/envs/omni/lib/python3.12/site-packages (from pydantic>=2.9->ollama) (0.4.1)\n",
      "Requirement already satisfied: sniffio>=1.1 in /home/gabriel/anaconda3/envs/omni/lib/python3.12/site-packages (from anyio->httpx>=0.27->ollama) (1.3.1)\n"
     ]
    }
   ],
   "source": [
    "! pip install -U ollama"
   ]
  },
  {
   "cell_type": "code",
   "execution_count": 4,
   "id": "dd968ce2",
   "metadata": {},
   "outputs": [],
   "source": [
    "from langchain_ollama import ChatOllama\n",
    "\n",
    "llm = ChatOllama(\n",
    "    model=\"tinyllama\",\n",
    "    temperature=0,\n",
    "    # other params...\n",
    ")"
   ]
  },
  {
   "cell_type": "code",
   "execution_count": 5,
   "id": "03e9224a",
   "metadata": {},
   "outputs": [
    {
     "data": {
      "text/plain": [
       "AIMessage(content=\"Certainly! Here's an example of how you can use Python to write a program that translates English to French:\\n\\n```python\\nimport string\\n\\ndef translate_english_to_french(text):\\n    # Remove non-letter characters from the text\\n    text = ''.join([char for char in text if char.isalpha()])\\n    \\n    # Convert all letters to lowercase\\n    text = text.lower()\\n    \\n    # Split the text into individual words and remove any punctuation or spaces\\n    words = [word.strip() for word in text.split(' ')]\\n    \\n    # Translate each word to French using a dictionary of French-English translations\\n    translation_dict = {\\n        'a': 'an',\\n        'b': 'be',\\n        'c': 'ce',\\n        'd': 'de',\\n        'e': 'en',\\n        'f': 'fait',\\n        'g': 'genre',\\n        'h': 'he',\\n        'i': 'il',\\n        'j': 'je',\\n        'k': 'ke',\\n        'l': 'la',\\n        'm': 'me',\\n        'n': 'ne',\\n        'o': 'on',\\n        'p': 'pe',\\n        'q': 'qu'\\n    }\\n    \\n    # Translate each word to French using the translation dictionary\\n    translated_words = [translation_dict[word] for word in words]\\n    \\n    return ' '.join(translated_words)\\n```\\n\\nIn this program, we first remove non-letter characters from the input text using the `string.replace()` method. We then convert all letters to lowercase using the `string.lower()` method. Finally, we split the text into individual words and remove any punctuation or spaces using the `string.split(' ')` method.\\n\\nTo translate each word to French, we use a dictionary of French-English translations that we've created earlier. We first check if the current word is in the translation dictionary by comparing it with the corresponding English word. If the two words are equal, we simply return the translated word without doing anything else. Otherwise, we translate the current word to French using the translation dictionary and add it to a list of translated words.\\n\\nFinally, we join all the translated words into a single string and return it as the output of the program.\", additional_kwargs={}, response_metadata={'model': 'tinyllama', 'created_at': '2025-08-15T13:12:34.998142462Z', 'done': True, 'done_reason': 'stop', 'total_duration': 55452674738, 'load_duration': 12358113, 'prompt_eval_count': 50, 'prompt_eval_duration': 1519000000, 'eval_count': 539, 'eval_duration': 53919000000, 'model_name': 'tinyllama'}, id='run--babee467-6600-4be3-b490-f1daa45e711e-0', usage_metadata={'input_tokens': 50, 'output_tokens': 539, 'total_tokens': 589})"
      ]
     },
     "execution_count": 5,
     "metadata": {},
     "output_type": "execute_result"
    }
   ],
   "source": [
    "messages = [\n",
    "    (\n",
    "        \"system\",\n",
    "        \"You are a helpful assistant that translates English to French. Translate the user sentence.\",\n",
    "    ),\n",
    "    (\"human\", \"I love programming.\"),\n",
    "]\n",
    "ai_msg = llm.invoke(messages)\n",
    "ai_msg"
   ]
  }
 ],
 "metadata": {
  "kernelspec": {
   "display_name": "omni",
   "language": "python",
   "name": "python3"
  },
  "language_info": {
   "codemirror_mode": {
    "name": "ipython",
    "version": 3
   },
   "file_extension": ".py",
   "mimetype": "text/x-python",
   "name": "python",
   "nbconvert_exporter": "python",
   "pygments_lexer": "ipython3",
   "version": "3.12.11"
  }
 },
 "nbformat": 4,
 "nbformat_minor": 5
}
